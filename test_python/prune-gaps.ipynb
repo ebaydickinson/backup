{
 "cells": [
  {
   "cell_type": "markdown",
   "metadata": {},
   "source": [
    "# prune-gaps.ipynb\n",
    "# Created by EB Dickinson Jan 8th 24 "
   ]
  },
  {
   "cell_type": "code",
   "execution_count": null,
   "metadata": {},
   "outputs": [],
   "source": [
    "# what working directory am I in?\n",
    "import os\n",
    "cwd = os.getcwd()\n",
    "print(cwd)"
   ]
  },
  {
   "cell_type": "code",
   "execution_count": 1,
   "metadata": {},
   "outputs": [
    {
     "ename": "AttributeError",
     "evalue": "module 'sys' has no attribute 'arg'",
     "output_type": "error",
     "traceback": [
      "\u001b[0;31m---------------------------------------------------------------------------\u001b[0m",
      "\u001b[0;31mAttributeError\u001b[0m                            Traceback (most recent call last)",
      "Cell \u001b[0;32mIn[1], line 2\u001b[0m\n\u001b[1;32m      1\u001b[0m \u001b[38;5;28;01mimport\u001b[39;00m \u001b[38;5;21;01msys\u001b[39;00m\n\u001b[0;32m----> 2\u001b[0m \u001b[38;5;28mprint\u001b[39m(\u001b[43msys\u001b[49m\u001b[38;5;241;43m.\u001b[39;49m\u001b[43marg\u001b[49m)\n",
      "\u001b[0;31mAttributeError\u001b[0m: module 'sys' has no attribute 'arg'"
     ]
    }
   ],
   "source": [
    "import sys\n",
    "print(sys.arg)"
   ]
  },
  {
   "cell_type": "code",
   "execution_count": null,
   "metadata": {},
   "outputs": [],
   "source": [
    "                def full_seq_output(string='', start_tolerance='', end_tolerance='', start=True):\n",
    "        \n",
    "                   count = 0 # set the count to zero\n",
    "                   \n",
    "                   if not start: #once the string doesn't start at the beginning\n",
    "                       string = string[::-1] # reverse it\n",
    "                   #print(f\"String to count from: {string}\") # check line \n",
    "                   \n",
    "                   for k in string: # to count each character\n",
    "                        #print(f\"Checking character: {k}\")\n",
    "                        if k == char: \n",
    "                            count += 1 # add one count\n",
    "                        else: # if not\n",
    "                            break # exit loop\n",
    "                   return count \n"
   ]
  }
 ],
 "metadata": {
  "kernelspec": {
   "display_name": "Python 3",
   "language": "python",
   "name": "python3"
  },
  "language_info": {
   "codemirror_mode": {
    "name": "ipython",
    "version": 3
   },
   "file_extension": ".py",
   "mimetype": "text/x-python",
   "name": "python",
   "nbconvert_exporter": "python",
   "pygments_lexer": "ipython3",
   "version": "3.11.10"
  }
 },
 "nbformat": 4,
 "nbformat_minor": 2
}
